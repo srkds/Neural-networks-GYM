{
 "cells": [
  {
   "cell_type": "markdown",
   "id": "e778bec9-e037-4ca8-a5c3-7ddbbb7310ba",
   "metadata": {},
   "source": [
    "## Random Initializaiton of Parameters\n",
    "\n",
    "When you train neural networks, it is important to initialize it randomly. Because if we initialize all the parameters of layer and then apply gradient decent it won't work."
   ]
  },
  {
   "cell_type": "code",
   "execution_count": 13,
   "id": "f234b049-df0a-4cdc-926d-f545fde08edd",
   "metadata": {},
   "outputs": [],
   "source": [
    "import numpy as np\n",
    "import matplotlib.pyplot as plt"
   ]
  },
  {
   "cell_type": "code",
   "execution_count": 2,
   "id": "98224c41-91af-49c7-9c46-ff3404047ab3",
   "metadata": {},
   "outputs": [],
   "source": [
    "\n",
    "def initialize_parameters(n_x, n_h, n_y, zeros=False):\n",
    "  # 2, 4, 1\n",
    "  if zeros:\n",
    "      W1 = np.zeros((n_h, n_x))\n",
    "      W2 = np.zeros((n_y, n_h))\n",
    "  else:\n",
    "      W1 = np.random.randn(n_h, n_x) # nlayers, input\n",
    "      W2 = np.random.randn(n_y, n_h)\n",
    "      \n",
    "  b2 = np.zeros((n_y, 1))\n",
    "  b1 = np.zeros((n_h,1))\n",
    "\n",
    "  parameters = {\"W1\":W1,\n",
    "                \"b1\":b1,\n",
    "                \"W2\":W2,\n",
    "                \"b2\":b2}\n",
    "\n",
    "  return parameters"
   ]
  },
  {
   "cell_type": "code",
   "execution_count": 3,
   "id": "05c3a4ac-2d4c-497a-ab3f-beda8f138add",
   "metadata": {},
   "outputs": [],
   "source": [
    "def forward_propagation(parameters, X):\n",
    "  W1, b1, W2, b2 = parameters[\"W1\"], parameters[\"b1\"], parameters[\"W2\"], parameters[\"b2\"]\n",
    "\n",
    "  Z1 = np.dot(W1, X) + b1 # W1-> (l, nx) X-> (nx, m)\n",
    "  A1 = 1 / (1 + np.exp(-Z1))\n",
    "  Z2 = np.dot(W2, A1) + b2\n",
    "  A2 = 1 / (1 + np.exp(-Z2))\n",
    "\n",
    "  cache = {\"Z1\": Z1,\n",
    "           \"A1\": A1,\n",
    "           \"Z2\": Z2,\n",
    "           \"A2\": A2}\n",
    "  return A2, cache"
   ]
  },
  {
   "cell_type": "code",
   "execution_count": 4,
   "id": "e0157aaa-4940-4d81-a823-fc91e24c164c",
   "metadata": {},
   "outputs": [],
   "source": [
    "\n",
    "def compute_cost(Yh, Y):\n",
    "  m = Y.shape[1]\n",
    "  cost = -np.sum((Y * np.log(Yh)) + ((1-Y) * np.log(1-Yh))) / m\n",
    "\n",
    "  return cost"
   ]
  },
  {
   "cell_type": "code",
   "execution_count": 5,
   "id": "48a42b2b-52c8-48a8-9bac-4fe58e7972cb",
   "metadata": {},
   "outputs": [],
   "source": [
    "def backpropagation(parameters, cache, X, Y):\n",
    "  W1, b1, W2, b2 = parameters[\"W1\"], parameters[\"b1\"], parameters[\"W2\"], parameters[\"b2\"]\n",
    "\n",
    "  A2, A1, Z1, Z2 = cache[\"A2\"], cache[\"A1\"], cache[\"Z1\"], cache[\"Z2\"]\n",
    "\n",
    "  m = Y.shape[1]\n",
    "  dZ2 =  A2 - Y\n",
    "  dW2 = np.dot(dZ2, A1.T) / m\n",
    "  db2 = np.sum(dZ2, axis=1, keepdims=True) / m\n",
    "  dA1 = A1 * (1-A1)\n",
    "  dZ1 = (W2.T*dZ2) * dA1\n",
    "  dW1 = np.dot(dZ1,X.T) / m\n",
    "  db1 = np.sum(dZ1, axis=1, keepdims=True) / m\n",
    "\n",
    "  grads = {\"dW1\": dW1,\n",
    "           \"db1\": db1,\n",
    "           \"dW2\": dW2,\n",
    "           \"db2\": db2}\n",
    "  return grads"
   ]
  },
  {
   "cell_type": "code",
   "execution_count": 6,
   "id": "b978611e-b34e-4098-9f2a-2dd77e646910",
   "metadata": {},
   "outputs": [],
   "source": [
    "def update_parameters(parameters, grads, learning_rate=1.2):\n",
    "  W1, b1, W2, b2 = parameters[\"W1\"], parameters[\"b1\"], parameters[\"W2\"], parameters[\"b2\"]\n",
    "\n",
    "  dW1, db1, dW2, db2 = grads[\"dW1\"], grads[\"db1\"], grads[\"dW2\"], grads[\"db2\"]\n",
    "\n",
    "  W1 = W1 - (dW1*learning_rate)\n",
    "  b1 = b1 - (db1*learning_rate)\n",
    "  W2 = W2 - (dW2*learning_rate)\n",
    "  b2 = b2 - (db2*learning_rate)\n",
    "\n",
    "  parameters = {\"W1\":W1,\n",
    "                \"b1\":b1,\n",
    "                \"W2\":W2,\n",
    "                \"b2\":b2}\n",
    "  return parameters"
   ]
  },
  {
   "cell_type": "markdown",
   "id": "e2e2fc54-6574-44a6-8a75-ae70175e7620",
   "metadata": {},
   "source": [
    "## 1-Initialize parameters values with zeros\n",
    "\n",
    "To initalize **Ws** with zeros pass flag as True and execute following cell multiple times and observe cache value of Z1 and A1 both row will have same output."
   ]
  },
  {
   "cell_type": "code",
   "execution_count": 7,
   "id": "048986e4-0d68-4483-b7d8-d1be61f3cb76",
   "metadata": {},
   "outputs": [
    {
     "data": {
      "text/plain": [
       "{'W1': array([[0., 0.],\n",
       "        [0., 0.]]),\n",
       " 'b1': array([[0.],\n",
       "        [0.]]),\n",
       " 'W2': array([[0., 0.]]),\n",
       " 'b2': array([[0.]])}"
      ]
     },
     "execution_count": 7,
     "metadata": {},
     "output_type": "execute_result"
    }
   ],
   "source": [
    "params = initialize_parameters(2,2,1, True)\n",
    "params"
   ]
  },
  {
   "cell_type": "code",
   "execution_count": 8,
   "id": "8fde75ed-8133-47d0-9405-ea2e04bd1527",
   "metadata": {},
   "outputs": [],
   "source": [
    "x = np.random.randn(2, 5)\n",
    "Y = np.random.randint(0,2, (1,5))\n"
   ]
  },
  {
   "cell_type": "code",
   "execution_count": 9,
   "id": "24ff5f32-0ad7-4609-98a4-f131b65d5b69",
   "metadata": {},
   "outputs": [
    {
     "name": "stdout",
     "output_type": "stream",
     "text": [
      "Yh:  [[0.5 0.5 0.5 0.5 0.5]]\n",
      "cache:  {'Z1': array([[0., 0., 0., 0., 0.],\n",
      "       [0., 0., 0., 0., 0.]]), 'A1': array([[0.5, 0.5, 0.5, 0.5, 0.5],\n",
      "       [0.5, 0.5, 0.5, 0.5, 0.5]]), 'Z2': array([[0., 0., 0., 0., 0.]]), 'A2': array([[0.5, 0.5, 0.5, 0.5, 0.5]])}\n"
     ]
    }
   ],
   "source": [
    "\n",
    "Yh, cache = forward_propagation(params, x)\n",
    "\n",
    "print(\"Yh: \", Yh)\n",
    "print(\"cache: \", cache)"
   ]
  },
  {
   "cell_type": "code",
   "execution_count": 31,
   "id": "44d6e9e2-8ff6-4272-b530-e1885b731264",
   "metadata": {},
   "outputs": [
    {
     "name": "stdout",
     "output_type": "stream",
     "text": [
      "Grads :  {'dW1': array([[0.01291129, 0.02874596],\n",
      "       [0.01291129, 0.02874596]]), 'db1': array([[-0.00711071],\n",
      "       [-0.00711071]]), 'dW2': array([[-0.05324712, -0.05324712]]), 'db2': array([[-0.10114566]])}\n"
     ]
    }
   ],
   "source": [
    "grads = backpropagation(params, cache, x, Y)\n",
    "print(\"Grads : \", grads)"
   ]
  },
  {
   "cell_type": "code",
   "execution_count": 32,
   "id": "bbc23c17-1263-4868-b883-2f21b7f9a879",
   "metadata": {},
   "outputs": [
    {
     "name": "stdout",
     "output_type": "stream",
     "text": [
      "updated Params:  {'W1': array([[-0.02398405, -0.05455362],\n",
      "       [-0.02398405, -0.05455362]]), 'b1': array([[0.01761498],\n",
      "       [0.01761498]]), 'W2': array([[0.3448091, 0.3448091]]), 'b2': array([[0.68319989]])}\n"
     ]
    }
   ],
   "source": [
    "params = update_parameters(params, grads)\n",
    "print(\"updated Params: \", params)"
   ]
  },
  {
   "cell_type": "markdown",
   "id": "0fcf4ab2-e09e-416e-9469-f797aefd18a4",
   "metadata": {},
   "source": [
    "As we shaw in two layer neural networks where in **$W^{[1]} = \\begin{bmatrix} 0 & 0 \\\\ 0 & 0\\end{bmatrix}$**\n",
    "\n",
    "Where **1st** row is parameters of **1st hidden unit in 1st layer** $W^{[1]}_1$ and so on.\n",
    "\n",
    "When we compute the **Z1** and **A1** matrix both the node's output is same due to symetry of the parameters. And when we compute the gradients through backprop we get same gradients.\n",
    "\n",
    "And because gradients are same, the updated values will be also same. And this way our model will not learn a good function and to **break the symetry** we **initialize the parameters W and bs with random values**"
   ]
  },
  {
   "cell_type": "markdown",
   "id": "04362bb0-33c1-4399-9c8f-c5afe8b90f45",
   "metadata": {},
   "source": [
    "### 2 - Initialize parameters with small random values\n",
    "\n",
    "When we pass input to the activation function like sigmoid, if the values are extreme at the both end then the derivative will be very low or near to zero and that means there's no learning.\n",
    "\n",
    "Try chaning values of **W** from 100 to 1 ans see the results. If value of **W** is high then the input to activation will also be high and because of that the derivative will be zero or near to zero. And if we have low or near to zero derivative then there is no learning.\n",
    "\n",
    "After doing that multiply **W** with small value like **0.01** eg. 100*0.01 it will become **1** so that is why we multiply random value with 0.01"
   ]
  },
  {
   "cell_type": "code",
   "execution_count": 51,
   "id": "6a841527-54d6-4a07-9707-8d02dff1488e",
   "metadata": {},
   "outputs": [
    {
     "data": {
      "text/plain": [
       "1.0"
      ]
     },
     "execution_count": 51,
     "metadata": {},
     "output_type": "execute_result"
    }
   ],
   "source": [
    "100*0.01"
   ]
  },
  {
   "cell_type": "code",
   "execution_count": 10,
   "id": "ad3ff67a-9eb2-4d56-8c76-770f14efe2b7",
   "metadata": {},
   "outputs": [],
   "source": [
    "def sigmoid(x):\n",
    "    y = 1 / (1 + np.exp(-x))\n",
    "\n",
    "    return y\n"
   ]
  },
  {
   "cell_type": "code",
   "execution_count": 48,
   "id": "d419976a-bbc2-4f55-8c0b-982259f355d8",
   "metadata": {},
   "outputs": [
    {
     "name": "stdout",
     "output_type": "stream",
     "text": [
      "[ 1.62434536 -0.61175641 -0.52817175 -1.07296862  0.86540763 -2.3015387\n",
      "  1.74481176 -0.7612069   0.3190391  -0.24937038]\n"
     ]
    }
   ],
   "source": [
    "np.random.seed(1)\n",
    "xn = np.random.randn(10)\n",
    "W = 100 \n",
    "\n",
    "print(xn)"
   ]
  },
  {
   "cell_type": "code",
   "execution_count": 49,
   "id": "a6fc164b-b241-4683-abf3-85900344456f",
   "metadata": {},
   "outputs": [],
   "source": [
    "xs = np.arange(-10,10,0.5)\n",
    "ys = sigmoid(xs)\n",
    "yn = sigmoid(xn*W)"
   ]
  },
  {
   "cell_type": "code",
   "execution_count": 50,
   "id": "96ffd361-7d44-4aec-88fd-8fe8f8139715",
   "metadata": {},
   "outputs": [
    {
     "data": {
      "text/plain": [
       "[<matplotlib.lines.Line2D at 0x11d179dd0>]"
      ]
     },
     "execution_count": 50,
     "metadata": {},
     "output_type": "execute_result"
    },
    {
     "data": {
      "image/png": "[encoded data removed]",
      "text/plain": [
       "<Figure size 640x480 with 1 Axes>"
      ]
     },
     "metadata": {},
     "output_type": "display_data"
    }
   ],
   "source": [
    "ip = xn*W\n",
    "plt.scatter(ip, yn, c=np.random.rand(10))\n",
    "plt.plot(xs,ys)"
   ]
  },
  {
   "cell_type": "markdown",
   "id": "bb70ae7f-6200-4585-a688-578d9d668c0a",
   "metadata": {},
   "source": [
    "### Conclusion\n",
    "- Break the symetry by initializing random values to the parameters of the network.\n",
    "- Initialize with small random number and for that we multiply with 0.01\n"
   ]
  },
  {
   "cell_type": "code",
   "execution_count": null,
   "id": "e776831c-7b62-4d58-877c-875848ac8ff3",
   "metadata": {},
   "outputs": [],
   "source": []
  }
 ],
 "metadata": {
  "kernelspec": {
   "display_name": "Python 3 (ipykernel)",
   "language": "python",
   "name": "python3"
  },
  "language_info": {
   "codemirror_mode": {
    "name": "ipython",
    "version": 3
   },
   "file_extension": ".py",
   "mimetype": "text/x-python",
   "name": "python",
   "nbconvert_exporter": "python",
   "pygments_lexer": "ipython3",
   "version": "3.11.5"
  }
 },
 "nbformat": 4,
 "nbformat_minor": 5
}
