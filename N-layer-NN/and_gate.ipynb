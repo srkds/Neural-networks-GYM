{
 "cells": [
  {
   "cell_type": "code",
   "execution_count": 1,
   "id": "7053aae1",
   "metadata": {},
   "outputs": [],
   "source": [
    "import numpy as np\n",
    "from tinynn import *"
   ]
  },
  {
   "cell_type": "code",
   "execution_count": 2,
   "id": "a7613573",
   "metadata": {},
   "outputs": [],
   "source": [
    "# 0 0 -> 0\n",
    "# 0 1 -> 0\n",
    "# 1 0 -> 0\n",
    "# 1 1 -> 1\n",
    "\n",
    "\n",
    "X_and = np.array([[0, 0],\n",
    "                 [0, 1],\n",
    "                 [1, 0],\n",
    "                 [1, 1]])\n",
    "Y_and = np.array([[0, 0, 0, 1]])\n",
    "\n"
   ]
  },
  {
   "cell_type": "code",
   "execution_count": 28,
   "id": "1a4f165b",
   "metadata": {},
   "outputs": [],
   "source": [
    "X_i = np.tile(np.arange(0,4), 62)\n"
   ]
  },
  {
   "cell_type": "code",
   "execution_count": 29,
   "id": "a4c2c94a",
   "metadata": {},
   "outputs": [],
   "source": [
    "np.random.shuffle(X_i)"
   ]
  },
  {
   "cell_type": "code",
   "execution_count": 30,
   "id": "d6b40d2d",
   "metadata": {},
   "outputs": [
    {
     "data": {
      "text/plain": [
       "248"
      ]
     },
     "execution_count": 30,
     "metadata": {},
     "output_type": "execute_result"
    }
   ],
   "source": [
    "len(X_i)"
   ]
  },
  {
   "cell_type": "code",
   "execution_count": 34,
   "id": "80792e5d",
   "metadata": {},
   "outputs": [
    {
     "name": "stdout",
     "output_type": "stream",
     "text": [
      "(248, 2)\n",
      "(248, 1)\n"
     ]
    }
   ],
   "source": [
    "X = np.zeros((248, 2))\n",
    "Y = np.zeros((248, 1))\n",
    "print(X.shape)\n",
    "print(Y.shape)"
   ]
  },
  {
   "cell_type": "code",
   "execution_count": 35,
   "id": "794cc905",
   "metadata": {},
   "outputs": [],
   "source": [
    "\n",
    "for i in range(len(X_i)):\n",
    "    # print(i)\n",
    "    # print(X_i[i])\n",
    "    X[i] = X_and[X_i[i]]\n",
    "    Y[i][0] = Y_and[0][X_i[i]]"
   ]
  },
  {
   "cell_type": "code",
   "execution_count": 39,
   "id": "833ef518",
   "metadata": {},
   "outputs": [
    {
     "data": {
      "text/plain": [
       "array([[0., 1.],\n",
       "       [1., 0.],\n",
       "       [1., 0.],\n",
       "       [0., 1.],\n",
       "       [1., 0.],\n",
       "       [0., 1.],\n",
       "       [1., 1.],\n",
       "       [0., 0.],\n",
       "       [0., 0.],\n",
       "       [0., 0.]])"
      ]
     },
     "execution_count": 39,
     "metadata": {},
     "output_type": "execute_result"
    }
   ],
   "source": [
    "X[:10]"
   ]
  },
  {
   "cell_type": "code",
   "execution_count": 40,
   "id": "79f61318",
   "metadata": {},
   "outputs": [
    {
     "data": {
      "text/plain": [
       "array([[0.],\n",
       "       [0.],\n",
       "       [0.],\n",
       "       [0.],\n",
       "       [0.],\n",
       "       [0.],\n",
       "       [1.],\n",
       "       [0.],\n",
       "       [0.],\n",
       "       [0.]])"
      ]
     },
     "execution_count": 40,
     "metadata": {},
     "output_type": "execute_result"
    }
   ],
   "source": [
    "Y[:10]"
   ]
  },
  {
   "cell_type": "code",
   "execution_count": 41,
   "id": "d50f2f95",
   "metadata": {},
   "outputs": [],
   "source": [
    "# Neural networks\n",
    "\n",
    "X_in = X.T # (m,nx) -> (nx, m)\n",
    "Y_in = Y.T # (m, 1) -> (1, m)\n"
   ]
  },
  {
   "cell_type": "code",
   "execution_count": 42,
   "id": "b139391b",
   "metadata": {},
   "outputs": [
    {
     "name": "stdout",
     "output_type": "stream",
     "text": [
      "(2, 248)\n",
      "(1, 248)\n"
     ]
    }
   ],
   "source": [
    "print(X_in.shape)\n",
    "print(Y_in.shape)"
   ]
  },
  {
   "cell_type": "code",
   "execution_count": 43,
   "id": "958fd3c3",
   "metadata": {},
   "outputs": [],
   "source": [
    "layer_dims = np.array([2,2,1])"
   ]
  },
  {
   "cell_type": "code",
   "execution_count": 45,
   "id": "83ed409a",
   "metadata": {},
   "outputs": [
    {
     "name": "stdout",
     "output_type": "stream",
     "text": [
      "Cost after iteration 0: 0.7473179428926656\n",
      "Cost after iteration 100: 0.49496437443532315\n",
      "Cost after iteration 200: 0.3848194605131475\n",
      "Cost after iteration 300: 0.2643322981835189\n",
      "Cost after iteration 400: 0.16383799976383281\n",
      "Cost after iteration 500: 0.10220031728755286\n",
      "Cost after iteration 600: 0.06832352338527324\n",
      "Cost after iteration 700: 0.049215985674046656\n",
      "Cost after iteration 800: 0.03774521387181944\n",
      "Cost after iteration 900: 0.031134206408953095\n",
      "Cost after iteration 999: 0.026735816610176592\n"
     ]
    }
   ],
   "source": [
    "parameters, cost, w1_l, cost_l =  train(X_in, Y_in, layer_dims, learning_rate=0.075, iteration=1000)"
   ]
  },
  {
   "cell_type": "code",
   "execution_count": 46,
   "id": "cf2169c3",
   "metadata": {},
   "outputs": [
    {
     "name": "stdout",
     "output_type": "stream",
     "text": [
      "Train Accuracy\n",
      "Accuracy:  0.9999999999999996\n"
     ]
    },
    {
     "data": {
      "text/plain": [
       "np.float64(0.9999999999999996)"
      ]
     },
     "execution_count": 46,
     "metadata": {},
     "output_type": "execute_result"
    }
   ],
   "source": [
    "print(\"Train Accuracy\")\n",
    "get_accuracy(parameters, X_in, Y_in)"
   ]
  },
  {
   "cell_type": "code",
   "execution_count": null,
   "id": "54c3e100",
   "metadata": {},
   "outputs": [
    {
     "data": {
      "text/plain": [
       "array([[0.]])"
      ]
     },
     "execution_count": 52,
     "metadata": {},
     "output_type": "execute_result"
    }
   ],
   "source": [
    "test = np.array([[0],[0]]) # test input 0,0 -> op 0\n",
    "predict(parameters, test)"
   ]
  },
  {
   "cell_type": "code",
   "execution_count": null,
   "id": "f8c51fcc",
   "metadata": {},
   "outputs": [],
   "source": []
  }
 ],
 "metadata": {
  "kernelspec": {
   "display_name": "Python 3",
   "language": "python",
   "name": "python3"
  },
  "language_info": {
   "codemirror_mode": {
    "name": "ipython",
    "version": 3
   },
   "file_extension": ".py",
   "mimetype": "text/x-python",
   "name": "python",
   "nbconvert_exporter": "python",
   "pygments_lexer": "ipython3",
   "version": "3.11.5"
  }
 },
 "nbformat": 4,
 "nbformat_minor": 5
}
