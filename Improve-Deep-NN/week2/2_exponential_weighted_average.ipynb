{
 "cells": [
  {
   "cell_type": "markdown",
   "id": "749f8cc2",
   "metadata": {},
   "source": [
    "# Exponentially Weighted Average\n",
    "\n",
    "- AKA exponentially weighted moving average\n",
    " "
   ]
  }
 ],
 "metadata": {
  "language_info": {
   "name": "python"
  }
 },
 "nbformat": 4,
 "nbformat_minor": 5
}
