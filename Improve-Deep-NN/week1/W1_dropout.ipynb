{
 "cells": [
  {
   "cell_type": "markdown",
   "id": "2ac5f042",
   "metadata": {},
   "source": [
    "# Dropout - Regularization Technique"
   ]
  },
  {
   "cell_type": "markdown",
   "id": "9c238406",
   "metadata": {},
   "source": [
    "- This is also powerful tequnique for regularization\n",
    "- With dropout what we do is, we go through the each of the layers\n",
    "- And set some probability to eleminating some nodes in the NN\n",
    "- Let's say for each layers there will be 0.5 chance of keeping each node and 0.5 chance removing each node.\n",
    "- So will eliminate those nodes.\n",
    "- Will remove ingoing and out going links from that node\n",
    "- So we will endup having smaller network.\n",
    "- then you do backpropagation on this smaller network.\n",
    "- and for different examples we will dropout different setof nodes.\n",
    "- So for each training example you will train on this reduced network  "
   ]
  },
  {
   "cell_type": "markdown",
   "id": "f460f169",
   "metadata": {},
   "source": [
    "### Inverted dropout technique\n",
    "\n",
    "- There are few ways to implement dropout.\n",
    "- This is most common one.\n",
    "\n",
    "Implementing Droput in a single layer\n",
    "\n",
    "layer `l` = 3\n",
    "\n",
    "set a vector `d3`: `it is a dropout vector` for layer 3\n"
   ]
  },
  {
   "cell_type": "code",
   "execution_count": 2,
   "id": "0455551c",
   "metadata": {},
   "outputs": [],
   "source": [
    "import numpy as np"
   ]
  },
  {
   "cell_type": "markdown",
   "id": "f8870c28",
   "metadata": {},
   "source": [
    "**np.random.rand()**\n",
    "\n",
    "generates random numbers between 0 and 1 inclusive. and equal chance of all numbers to come. or it is taking it from uniform distribution.\n"
   ]
  },
  {
   "cell_type": "code",
   "execution_count": 7,
   "id": "36249dd7",
   "metadata": {},
   "outputs": [
    {
     "data": {
      "text/plain": [
       "array([[0.66099952],\n",
       "       [0.4907301 ],\n",
       "       [0.90323438],\n",
       "       [0.47440171],\n",
       "       [0.82553595]])"
      ]
     },
     "execution_count": 7,
     "metadata": {},
     "output_type": "execute_result"
    }
   ],
   "source": [
    "np.random.rand(5,1)"
   ]
  },
  {
   "cell_type": "markdown",
   "id": "00368c39",
   "metadata": {},
   "source": [
    "Let's say `keep_prob=0.8`\n",
    "\n",
    "So if the random number is less then 0.8 then true or being one mening 0.8 percent chance of being true and 0.2 % chance being false.\n",
    "\n",
    "Shape of d3 will be same as activation of layer3\n",
    "\n",
    "`d3 = np.random.rand(a3.shape[0], a3.shape[1]) < keep_prob`"
   ]
  },
  {
   "cell_type": "code",
   "execution_count": 24,
   "id": "e14b0346",
   "metadata": {},
   "outputs": [
    {
     "name": "stdout",
     "output_type": "stream",
     "text": [
      "before dropout A3:  [[0.43]\n",
      " [1.9 ]\n",
      " [0.9 ]\n",
      " [0.7 ]\n",
      " [0.3 ]]\n",
      "d3:  [[False]\n",
      " [False]\n",
      " [ True]\n",
      " [ True]\n",
      " [ True]]\n",
      "[[0. ]\n",
      " [0. ]\n",
      " [0.9]\n",
      " [0.7]\n",
      " [0.3]]\n"
     ]
    }
   ],
   "source": [
    "keep_prob = 0.8\n",
    "a3 = np.array([[.43],[1.9],[.9],[.7],[.3]])\n",
    "print(\"before dropout A3: \", a3)\n",
    "d3 = np.random.rand(5,1) < keep_prob # 20% chance of each of the value to be False/0\n",
    "print(\"d3: \", d3)\n",
    "\n",
    "a3 = np.multiply(a3, d3) # zeroing up correspongding element of d3 from a3. point wise multiplication \n",
    "print(a3)"
   ]
  },
  {
   "cell_type": "code",
   "execution_count": 25,
   "id": "a711d933",
   "metadata": {},
   "outputs": [
    {
     "data": {
      "text/plain": [
       "array([[0.   ],\n",
       "       [0.   ],\n",
       "       [1.125],\n",
       "       [0.875],\n",
       "       [0.375]])"
      ]
     },
     "execution_count": 25,
     "metadata": {},
     "output_type": "execute_result"
    }
   ],
   "source": [
    "# step-4\n",
    "# scale the values by dividing the value by keep_prob\n",
    "a3 /= keep_prob \n",
    "a3"
   ]
  },
  {
   "cell_type": "markdown",
   "id": "bbb3e673",
   "metadata": {},
   "source": [
    "Explaination of scaling droupout values:\n",
    "\n",
    "- if you have `50` neurons in 3rd layer so it may be 50,1 dimantional.\n",
    "- so if 80% chance of keeping them and 20% chance of eleminating them.\n",
    "- then on average 10 units shut off or zero out\n",
    "\n",
    "- So when you calculate values for next layer\n",
    "\n",
    "$z^{[4]} = w^{[4]}.a^{[3]} + b$\n",
    "\n",
    "- the $a^{[3]}$ is being reduced by 20% so that's why to bump up the values roughly back up we divide it by `keep_prob`\n",
    "- so not change the **expected values** of `a3`\n",
    "So this\n",
    "\n",
    "`a3 /= keep_prob`\n",
    "\n",
    "is called **Inverted Droupout** technique\n",
    "\n",
    "by dividing it with keep prob ensures that the expected values remain same.\n",
    "\n",
    "- and because of it the test time is easier\n",
    "- most commonly used "
   ]
  },
  {
   "cell_type": "markdown",
   "id": "b7050467",
   "metadata": {},
   "source": []
  },
  {
   "cell_type": "markdown",
   "id": "e951d0bb",
   "metadata": {},
   "source": [
    "- we use `d` or dropout vector for different trainign examples to zero out different hidden units.\n",
    "- for multiple pass of the training set you randomly zero out different units.\n",
    "- so for 1st iteration you zeroout different units and for 2nd you do it for different units\n",
    "- vector d or d3 is used to decide what to zero out\n",
    "\n",
    "At Test time\n",
    "\n",
    "We do not add the dropout and just simply calculate the values without zeroing out the units. \n",
    "\n",
    "- adding dropout will generate noise at test time\n",
    "- effect of dividing by keep prob is that at test time we dont need to add scaling term adn the expected value will remain same."
   ]
  },
  {
   "cell_type": "markdown",
   "id": "2d3b5143",
   "metadata": {},
   "source": []
  }
 ],
 "metadata": {
  "kernelspec": {
   "display_name": "Python 3",
   "language": "python",
   "name": "python3"
  },
  "language_info": {
   "codemirror_mode": {
    "name": "ipython",
    "version": 3
   },
   "file_extension": ".py",
   "mimetype": "text/x-python",
   "name": "python",
   "nbconvert_exporter": "python",
   "pygments_lexer": "ipython3",
   "version": "3.11.5"
  }
 },
 "nbformat": 4,
 "nbformat_minor": 5
}
